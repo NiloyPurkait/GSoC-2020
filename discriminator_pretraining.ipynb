{
  "nbformat": 4,
  "nbformat_minor": 0,
  "metadata": {
    "colab": {
      "name": "discriminator_pretraining ",
      "provenance": [],
      "collapsed_sections": [],
      "toc_visible": true,
      "include_colab_link": true
    },
    "kernelspec": {
      "display_name": "Python 3",
      "language": "python",
      "name": "python3"
    },
    "language_info": {
      "codemirror_mode": {
        "name": "ipython",
        "version": 3
      },
      "file_extension": ".py",
      "mimetype": "text/x-python",
      "name": "python",
      "nbconvert_exporter": "python",
      "pygments_lexer": "ipython3",
      "version": "3.7.0"
    }
  },
  "cells": [
    {
      "cell_type": "markdown",
      "metadata": {
        "id": "view-in-github",
        "colab_type": "text"
      },
      "source": [
        "<a href=\"https://colab.research.google.com/github/NiloyPurkait/GSoC-2020/blob/master/discriminator_pretraining.ipynb\" target=\"_parent\"><img src=\"https://colab.research.google.com/assets/colab-badge.svg\" alt=\"Open In Colab\"/></a>"
      ]
    },
    {
      "cell_type": "markdown",
      "metadata": {
        "colab_type": "text",
        "id": "S09bm93WbSyt"
      },
      "source": [
        "## Pre-train Discriminator before adverserial training\n",
        "\n",
        "The discriminator is trained by concatenating the input and the output sequence of an rdf triple-text pair, and passing the concatenated sequence as a whole to the discriminator. The idea here is that the discriminator learns to discriminate between real rdf-txt pqired sequences and fake ones.\n",
        "\n",
        "\n",
        "\n",
        "- Adapted from : Original Author:** [Apoorv Nandan](https://twitter.com/NandanApoorv)"
      ]
    },
    {
      "cell_type": "code",
      "metadata": {
        "colab_type": "code",
        "id": "cmSKLq9HbSyu",
        "colab": {}
      },
      "source": [
        "import tensorflow as tf\n",
        "from tensorflow import keras\n",
        "from tensorflow.keras import layers\n",
        "import tensorflow_datasets as tfds\n",
        "import time\n",
        "import numpy as np\n"
      ],
      "execution_count": 1,
      "outputs": []
    },
    {
      "cell_type": "code",
      "metadata": {
        "id": "tIr5JiLoblx4",
        "colab_type": "code",
        "colab": {
          "base_uri": "https://localhost:8080/",
          "height": 122
        },
        "outputId": "1f3795f2-0da2-4d17-9b63-c922ffabe3e2"
      },
      "source": [
        "\n",
        "from google.colab import drive\n",
        "drive.mount('/content/gdrive')\n",
        "\n",
        "file_path = \"/content/gdrive/My Drive/data/processed_graphs/eng/gat/f_data.txt\"\n",
        "test_path = \"/content/gdrive/My Drive/data/processed_graphs/eng/gat/test_data.txt\""
      ],
      "execution_count": 2,
      "outputs": [
        {
          "output_type": "stream",
          "text": [
            "Go to this URL in a browser: https://accounts.google.com/o/oauth2/auth?client_id=947318989803-6bn6qk8qdgf4n4g3pfee6491hc0brc4i.apps.googleusercontent.com&redirect_uri=urn%3aietf%3awg%3aoauth%3a2.0%3aoob&response_type=code&scope=email%20https%3a%2f%2fwww.googleapis.com%2fauth%2fdocs.test%20https%3a%2f%2fwww.googleapis.com%2fauth%2fdrive%20https%3a%2f%2fwww.googleapis.com%2fauth%2fdrive.photos.readonly%20https%3a%2f%2fwww.googleapis.com%2fauth%2fpeopleapi.readonly\n",
            "\n",
            "Enter your authorization code:\n",
            "··········\n",
            "Mounted at /content/gdrive\n"
          ],
          "name": "stdout"
        }
      ]
    },
    {
      "cell_type": "code",
      "metadata": {
        "id": "twNqfmM_wkps",
        "colab_type": "code",
        "colab": {}
      },
      "source": [
        "import pretraining\n",
        "from pretraining import *"
      ],
      "execution_count": 3,
      "outputs": []
    },
    {
      "cell_type": "code",
      "metadata": {
        "id": "4Bc0XjkNwM2x",
        "colab_type": "code",
        "colab": {
          "base_uri": "https://localhost:8080/",
          "height": 85
        },
        "outputId": "6c7eece2-f2ba-4860-e20c-fa30f0523cb6"
      },
      "source": [
        "train_dataset, tokenizer_txt = create_generator_dataset(file_path)\n",
        "X_train, X_test, y_train, y_test = create_discriminator_dataset(train_dataset)"
      ],
      "execution_count": 7,
      "outputs": [
        {
          "output_type": "stream",
          "text": [
            "Max source length :  133 \n",
            "Max target length :  87\n",
            "Max sequence size:  215\n",
            "dataset shape:  (68704, 215) (68704,)\n"
          ],
          "name": "stdout"
        }
      ]
    },
    {
      "cell_type": "code",
      "metadata": {
        "id": "s6xf00lWxeRX",
        "colab_type": "code",
        "colab": {
          "base_uri": "https://localhost:8080/",
          "height": 34
        },
        "outputId": "9045fb2f-2cdd-4eac-b324-7b89aec4eff1"
      },
      "source": [
        "k = lambda x : x.shape\n",
        "list(map(k, [X_train, X_test, y_train, y_test]))"
      ],
      "execution_count": 8,
      "outputs": [
        {
          "output_type": "execute_result",
          "data": {
            "text/plain": [
              "[(61833, 215), (6871, 215), (61833,), (6871,)]"
            ]
          },
          "metadata": {
            "tags": []
          },
          "execution_count": 8
        }
      ]
    },
    {
      "cell_type": "code",
      "metadata": {
        "id": "5zA1gaASc0Ub",
        "colab_type": "code",
        "colab": {}
      },
      "source": [
        "DATA_MAX_LEN=250"
      ],
      "execution_count": 9,
      "outputs": []
    },
    {
      "cell_type": "code",
      "metadata": {
        "id": "pC7HAFp3ck1d",
        "colab_type": "code",
        "colab": {
          "base_uri": "https://localhost:8080/",
          "height": 425
        },
        "outputId": "0d5cfaa4-721e-4c74-ab9e-165bdd51800a"
      },
      "source": [
        "from transformer_discriminator import *\n",
        "discriminator = TransformerDiscriminator(tokenizer_txt.vocab_size+2, maxlen=DATA_MAX_LEN)"
      ],
      "execution_count": 10,
      "outputs": [
        {
          "output_type": "stream",
          "text": [
            "Model: \"model\"\n",
            "_________________________________________________________________\n",
            "Layer (type)                 Output Shape              Param #   \n",
            "=================================================================\n",
            "input_1 (InputLayer)         [(None, 250)]             0         \n",
            "_________________________________________________________________\n",
            "token_and_position_embedding (None, 250, 32)           348000    \n",
            "_________________________________________________________________\n",
            "transformer_block (Transform (None, 250, 32)           6464      \n",
            "_________________________________________________________________\n",
            "global_average_pooling1d (Gl (None, 32)                0         \n",
            "_________________________________________________________________\n",
            "dropout_2 (Dropout)          (None, 32)                0         \n",
            "_________________________________________________________________\n",
            "dense_6 (Dense)              (None, 20)                660       \n",
            "_________________________________________________________________\n",
            "dropout_3 (Dropout)          (None, 20)                0         \n",
            "_________________________________________________________________\n",
            "dense_7 (Dense)              (None, 1)                 21        \n",
            "=================================================================\n",
            "Total params: 355,145\n",
            "Trainable params: 355,145\n",
            "Non-trainable params: 0\n",
            "_________________________________________________________________\n"
          ],
          "name": "stdout"
        }
      ]
    },
    {
      "cell_type": "markdown",
      "metadata": {
        "colab_type": "text",
        "id": "Isc-lMzDbSzZ"
      },
      "source": [
        "## Train and Evaluate\n"
      ]
    },
    {
      "cell_type": "code",
      "metadata": {
        "colab_type": "code",
        "id": "WzDIyt2UbSzb",
        "colab": {
          "base_uri": "https://localhost:8080/",
          "height": 479
        },
        "outputId": "86dd9129-4203-4b76-baa3-dcb93e9cfe45"
      },
      "source": [
        "discriminator.compile(\"adam\", \"binary_crossentropy\", metrics=[\"accuracy\"])\n",
        "history = discriminator.fit(\n",
        "    X_train, y_train, batch_size=32, epochs=10, validation_data=(X_test, y_test)\n",
        ")\n"
      ],
      "execution_count": 15,
      "outputs": [
        {
          "output_type": "stream",
          "text": [
            "Epoch 1/10\n",
            "WARNING:tensorflow:Model was constructed with shape (None, 250) for input Tensor(\"input_1:0\", shape=(None, 250), dtype=float32), but it was called on an input with incompatible shape (None, 215).\n"
          ],
          "name": "stdout"
        },
        {
          "output_type": "stream",
          "text": [
            "WARNING:tensorflow:Model was constructed with shape (None, 250) for input Tensor(\"input_1:0\", shape=(None, 250), dtype=float32), but it was called on an input with incompatible shape (None, 215).\n"
          ],
          "name": "stderr"
        },
        {
          "output_type": "stream",
          "text": [
            "WARNING:tensorflow:Model was constructed with shape (None, 250) for input Tensor(\"input_1:0\", shape=(None, 250), dtype=float32), but it was called on an input with incompatible shape (None, 215).\n"
          ],
          "name": "stdout"
        },
        {
          "output_type": "stream",
          "text": [
            "WARNING:tensorflow:Model was constructed with shape (None, 250) for input Tensor(\"input_1:0\", shape=(None, 250), dtype=float32), but it was called on an input with incompatible shape (None, 215).\n"
          ],
          "name": "stderr"
        },
        {
          "output_type": "stream",
          "text": [
            "1932/1933 [============================>.] - ETA: 0s - loss: 0.6738 - accuracy: 0.5780WARNING:tensorflow:Model was constructed with shape (None, 250) for input Tensor(\"input_1:0\", shape=(None, 250), dtype=float32), but it was called on an input with incompatible shape (None, 215).\n"
          ],
          "name": "stdout"
        },
        {
          "output_type": "stream",
          "text": [
            "WARNING:tensorflow:Model was constructed with shape (None, 250) for input Tensor(\"input_1:0\", shape=(None, 250), dtype=float32), but it was called on an input with incompatible shape (None, 215).\n"
          ],
          "name": "stderr"
        },
        {
          "output_type": "stream",
          "text": [
            "1933/1933 [==============================] - 173s 90ms/step - loss: 0.6738 - accuracy: 0.5780 - val_loss: 0.6624 - val_accuracy: 0.6025\n",
            "Epoch 2/10\n",
            "1933/1933 [==============================] - 173s 90ms/step - loss: 0.6314 - accuracy: 0.6364 - val_loss: 0.5037 - val_accuracy: 0.7626\n",
            "Epoch 3/10\n",
            "1933/1933 [==============================] - 174s 90ms/step - loss: 0.4081 - accuracy: 0.8172 - val_loss: 0.3639 - val_accuracy: 0.8451\n",
            "Epoch 4/10\n",
            "1933/1933 [==============================] - 173s 90ms/step - loss: 0.3153 - accuracy: 0.8719 - val_loss: 0.3130 - val_accuracy: 0.8750\n",
            "Epoch 5/10\n",
            "1933/1933 [==============================] - 168s 87ms/step - loss: 0.2267 - accuracy: 0.9165 - val_loss: 0.2195 - val_accuracy: 0.9214\n",
            "Epoch 6/10\n",
            "1933/1933 [==============================] - 172s 89ms/step - loss: 0.1646 - accuracy: 0.9434 - val_loss: 0.2066 - val_accuracy: 0.9288\n",
            "Epoch 7/10\n",
            "1933/1933 [==============================] - 167s 87ms/step - loss: 0.1291 - accuracy: 0.9577 - val_loss: 0.1894 - val_accuracy: 0.9374\n",
            "Epoch 8/10\n",
            "1933/1933 [==============================] - 168s 87ms/step - loss: 0.1050 - accuracy: 0.9666 - val_loss: 0.1817 - val_accuracy: 0.9403\n",
            "Epoch 9/10\n",
            "1933/1933 [==============================] - 167s 87ms/step - loss: 0.0892 - accuracy: 0.9721 - val_loss: 0.1669 - val_accuracy: 0.9480\n",
            "Epoch 10/10\n",
            "1933/1933 [==============================] - 168s 87ms/step - loss: 0.0786 - accuracy: 0.9763 - val_loss: 0.1619 - val_accuracy: 0.9539\n"
          ],
          "name": "stdout"
        }
      ]
    },
    {
      "cell_type": "code",
      "metadata": {
        "id": "Se800dK_0NAb",
        "colab_type": "code",
        "colab": {}
      },
      "source": [
        "discriminator.save_weights('./discriminator_weights.h5')"
      ],
      "execution_count": 16,
      "outputs": []
    },
    {
      "cell_type": "code",
      "metadata": {
        "id": "vTr9Wzmwf5vg",
        "colab_type": "code",
        "colab": {}
      },
      "source": [
        ""
      ],
      "execution_count": null,
      "outputs": []
    }
  ]
}